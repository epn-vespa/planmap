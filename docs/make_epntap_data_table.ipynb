{
 "cells": [
  {
   "cell_type": "markdown",
   "metadata": {},
   "source": [
    "# Make an EPN-TAP data table for PLANMAP packages\n",
    "\n",
    "We want to go inside Planmap packages and extract information for each data product in `vector` and `raster` directories.\n",
    "This information will be used, initially, to populate VESPA EPN-TAP tables.\n",
    "In particular, we're interested in filling the following columns<sup>*</sup>:\n",
    "\n",
    "* `access_url`: data product URL\n",
    "* `c1max`: max longitude (positive east, 0-360)\n",
    "* `c1min`: min longitude (positive east, 0-360)\n",
    "* `c2max`: max latitude\n",
    "* `c2min`: min latitude\n",
    "* `s_region`: map footprint\n",
    "* `creation_date`: package creation date\n",
    "* `dataproduct_type`: options are `im`\n",
    "* `granule_gid`: package-id (PM_ID)\n",
    "* `granule_uid`: data product name\n",
    "* `modification_date`: package update date (same as creation data, if in doubt)\n",
    "* `obs_id`: data product name\n",
    "* `release_date`: package release date (same as creation date, if in doubt)\n",
    "* `service_title`: `planmap`\n",
    "* `spatial_frame_type`: `body`\n",
    "* `target_class`: `planet`\n",
    "* `target_name`: options are `mars`, `mercury`, `moon`\n",
    "* `thumbnail_url`: thumbnail (jpeg) url\n",
    "\n",
    "<sup>*</sup> About EPN-TAP columns: https://voparis-wiki.obspm.fr/display/VES/EPN-TAP+v2+parameter+description"
   ]
  },
  {
   "cell_type": "markdown",
   "metadata": {},
   "source": [
    "### Software/libraries we're using here:\n",
    "\n",
    "* Python 3.7.8\n",
    "* rasterio 1.2.0\n",
    "* shapely 1.7.1\n",
    "* fiona 1.8.18"
   ]
  },
  {
   "cell_type": "code",
   "execution_count": 1,
   "metadata": {},
   "outputs": [],
   "source": [
    "from dataclasses import make_dataclass, field, asdict\n",
    "\n",
    "epntap_fields = [\n",
    "    ('granule_uid', str),\n",
    "    ('granule_gid', str),\n",
    "    ('obs_id', str),\n",
    "    ('dataproduct_type', str, field(default='')),\n",
    "    ('access_url', str, field(default='')),\n",
    "    ('c1max', float, field(default=360)),\n",
    "    ('c1min', float, field(default=0)),\n",
    "    ('c2max', float, field(default=90)),\n",
    "    ('c2min', float, field(default=-90)),\n",
    "    ('s_region', str, field(default='')),\n",
    "    ('creation_date', str, field(default='2019-12-31')),\n",
    "    ('modification_date', str, field(default='2019-12-31')),\n",
    "    ('release_date', str, field(default='2019-12-31')),\n",
    "    ('service_title', str, field(default='planmap')),\n",
    "    ('spatial_frame_type', str, field(default='body')),\n",
    "    ('target_class', str, field(default='planet')),\n",
    "    ('target_name', str, field(default='')),\n",
    "    ('thumbnail_url', str, field(default=''))\n",
    "]\n",
    "\n",
    "EPNTAPRecord = make_dataclass('EPNTAPRecord', epntap_fields)\n",
    "\n",
    "EPNTAPRecordRaster = make_dataclass('EPNTAPRecordRaster', \n",
    "                                    [('dataproduct_type', str, 'im')],\n",
    "                                    bases=(EPNTAPRecord,))\n",
    "\n",
    "EPNTAPRecordVector = make_dataclass('EPNTAPRecordVector', \n",
    "                                    [('dataproduct_type', str, 'sv')],\n",
    "                                    bases=(EPNTAPRecord,))"
   ]
  },
  {
   "cell_type": "code",
   "execution_count": 2,
   "metadata": {},
   "outputs": [],
   "source": [
    "import pathlib\n",
    "\n",
    "import fiona\n",
    "import shapely\n",
    "import rasterio\n",
    "\n",
    "\n",
    "crs = {\n",
    "    'moon': '+proj=longlat +a=1737400 +b=1737400 +no_defs',\n",
    "    'mars': '+proj=longlat +a=3396190 +b=3376200 +no_defs'\n",
    "}\n",
    "\n",
    "def bbox_shift_0360(bbox):\n",
    "    c1min = bbox['c1min'] + 360 if bbox['c1min'] < 0 else bbox['c1min']\n",
    "    c1max = bbox['c1max'] + 360 if bbox['c1max'] < 0 else bbox['c1max']\n",
    "    bbox['c1min'] = c1min\n",
    "    bbox['c1max'] = c1max\n",
    "    return bbox\n",
    "    \n",
    "def bounding_box_raster(tif, body):\n",
    "    from rasterio import warp\n",
    "    img = rasterio.open(tif)\n",
    "    dst_crs = crs[body]\n",
    "    left, bottom, right, top = warp.transform_bounds(img.crs, dst_crs, *img.bounds)\n",
    "    bbox = {\n",
    "        'c1min': left,\n",
    "        'c1max': right,\n",
    "        'c2min': bottom,\n",
    "        'c2max': top\n",
    "    }\n",
    "    return bbox_shift_0360(bbox)\n",
    "    \n",
    "def bounding_box_vector(gpkg, body):\n",
    "    from rasterio import warp\n",
    "    f = fiona.open('PM-MAR-MS-Arsinoes/vector/PM-MAR-MS-Arsinoes.gpkg')\n",
    "    dst_crs = crs[body]\n",
    "    left, bottom, right, top = warp.transform_bounds(f.crs, dst_crs, *f.bounds)\n",
    "    bbox = {\n",
    "        'c1min': left,\n",
    "        'c1max': right,\n",
    "        'c2min': bottom,\n",
    "        'c2max': top\n",
    "    }\n",
    "    return bbox_shift_0360(bbox)\n",
    "\n",
    "def s_region_bbox(bbox):\n",
    "    from shapely import geometry\n",
    "    coords = [\n",
    "        (bbox['c1min'],bbox['c2min']),\n",
    "        (bbox['c1min'],bbox['c2max']),\n",
    "        (bbox['c1max'],bbox['c2max']),\n",
    "        (bbox['c1max'],bbox['c2min']),\n",
    "    ]\n",
    "    pol = geometry.Polygon(coords)\n",
    "    return pol\n",
    "\n",
    "def init_path(path):\n",
    "    p = pathlib.Path(path)\n",
    "    if not (p.exists() and p.is_dir()):\n",
    "        return None\n",
    "    return p\n",
    "    \n",
    "    \n",
    "class PmPkg:\n",
    "    _rasters = []\n",
    "    _vectors = []\n",
    "    \n",
    "    def __init__(self, path='./PM-MAR-C-Arsinoes/'):\n",
    "        _path = init_path(path)\n",
    "        assert _path is not None, \"Path '{!s}' does not seem to exist\".format(path)\n",
    "        self._path = _path\n",
    "        self._pmid = _path.name\n",
    "        \n",
    "    @property\n",
    "    def pmid(self):\n",
    "        return self._pmid\n",
    "    \n",
    "    def parse_readme(self, param):\n",
    "        with open(self._path / 'README.md', 'r') as fp:\n",
    "            _lines = fp.readlines()\n",
    "        for _l in _lines:\n",
    "            _l = _l.strip().lower()\n",
    "            if param.lower() in _l:\n",
    "                return _l.split('|')[2].strip()\n",
    "        return ''\n",
    "        \n",
    "    def proc_raster_dir(self):\n",
    "        rasters = []\n",
    "        path = self._path / 'raster'\n",
    "        if path.exists and path.is_dir():\n",
    "            for _f in path.iterdir():\n",
    "                if _f.suffix == '.tif' or _f.suffix == '.tiff':\n",
    "                    filename = path / _f.name\n",
    "                    granule_uid = _f.stem\n",
    "                    granule_gid = self.pmid\n",
    "                    obs_id = granule_uid.replace(granule_gid + '_', '')\n",
    "                    target_name = self.parse_readme('target body')\n",
    "                    assert target_name in ('mars', 'mercury', 'moon'), \"Expecting 'target_name' in 'mars', 'mercury', or 'moon'\"\n",
    "                    access_url = '/'.join(['https://data.planmap.eu/pub', target_name, self.pmid, 'raster', _f.name])\n",
    "                    thumbnail_url = '.'.join(access_url.split('.')[:-1] + ['jpg'])\n",
    "                    bbox = bounding_box_raster(filename, target_name)\n",
    "                    s_region = s_region_bbox(bbox)\n",
    "                    _raster = EPNTAPRecordRaster(granule_uid = granule_uid,\n",
    "                                                 obs_id = obs_id,\n",
    "                                                 granule_gid = granule_gid,\n",
    "                                                 access_url = access_url,\n",
    "                                                 target_name = target_name,\n",
    "                                                 thumbnail_url = thumbnail_url,\n",
    "                                                 c1min = bbox['c1min'],\n",
    "                                                 c1max = bbox['c1max'],\n",
    "                                                 c2min = bbox['c2min'],\n",
    "                                                 c2max = bbox['c2max'],\n",
    "                                                 s_region = s_region\n",
    "                                                )\n",
    "                    rasters.append(_raster)\n",
    "            self._rasters = rasters\n",
    "        \n",
    "    def proc_vector_dir(self):\n",
    "        vectors = []\n",
    "        path = self._path / 'vector'\n",
    "        if path.exists and path.is_dir():\n",
    "            for _f in path.iterdir():\n",
    "                if _f.suffix == '.gpkg':\n",
    "                    filename = path / _f.name\n",
    "                    granule_uid = _f.stem\n",
    "                    granule_gid = self.pmid\n",
    "                    obs_id = granule_uid\n",
    "                    target_name = self.parse_readme('target body')\n",
    "                    assert target_name in ('mars', 'mercury', 'moon'), \"Expecting 'target_name' in 'mars', 'mercury', or 'moon'\"\n",
    "                    access_url = '/'.join(['https://data.planmap.eu/pub', target_name, self.pmid, 'vector', _f.name])\n",
    "                    bbox = bounding_box_vector(filename, target_name)\n",
    "                    _vector = EPNTAPRecordVector(granule_uid = granule_uid,\n",
    "                                                 obs_id = obs_id,\n",
    "                                                 granule_gid = granule_gid,\n",
    "                                                 access_url = access_url,\n",
    "                                                 target_name = target_name,\n",
    "                                                 c1min = bbox['c1min'],\n",
    "                                                 c1max = bbox['c1max'],\n",
    "                                                 c2min = bbox['c2min'],\n",
    "                                                 c2max = bbox['c2max']\n",
    "                                                )\n",
    "                    vectors.append(_vector)\n",
    "            self._vectors = vectors                \n",
    "    \n",
    "    def proc_data(self):\n",
    "        self.proc_raster_dir()\n",
    "        self.proc_vector_dir()\n",
    "\n",
    "    def to_epntap(self):\n",
    "        epn_records = []\n",
    "        for epn_rec in self._rasters:\n",
    "            epn_records.append(asdict(epn_rec))\n",
    "        for epn_rec in self._vectors:\n",
    "            epn_records.append(asdict(epn_rec))\n",
    "        return epn_records\n",
    "    "
   ]
  },
  {
   "cell_type": "code",
   "execution_count": 4,
   "metadata": {},
   "outputs": [
    {
     "ename": "AssertionError",
     "evalue": "Path '../PM-MAR-C-Arsinoes/' does not seem to exist",
     "output_type": "error",
     "traceback": [
      "\u001b[0;31m---------------------------------------------------------------------------\u001b[0m",
      "\u001b[0;31mAssertionError\u001b[0m                            Traceback (most recent call last)",
      "\u001b[0;32m<ipython-input-4-9baa96641a0c>\u001b[0m in \u001b[0;36m<module>\u001b[0;34m()\u001b[0m\n\u001b[0;32m----> 1\u001b[0;31m \u001b[0mpkg\u001b[0m \u001b[0;34m=\u001b[0m \u001b[0mPmPkg\u001b[0m\u001b[0;34m(\u001b[0m\u001b[0;34m'../PM-MAR-C-Arsinoes/'\u001b[0m\u001b[0;34m)\u001b[0m\u001b[0;34m\u001b[0m\u001b[0;34m\u001b[0m\u001b[0m\n\u001b[0m\u001b[1;32m      2\u001b[0m \u001b[0;34m\u001b[0m\u001b[0m\n\u001b[1;32m      3\u001b[0m \u001b[0mpkg\u001b[0m\u001b[0;34m.\u001b[0m\u001b[0mproc_raster_dir\u001b[0m\u001b[0;34m(\u001b[0m\u001b[0;34m)\u001b[0m\u001b[0;34m\u001b[0m\u001b[0;34m\u001b[0m\u001b[0m\n\u001b[1;32m      4\u001b[0m \u001b[0;34m\u001b[0m\u001b[0m\n\u001b[1;32m      5\u001b[0m \u001b[0mepntap_records\u001b[0m \u001b[0;34m=\u001b[0m \u001b[0mpkg\u001b[0m\u001b[0;34m.\u001b[0m\u001b[0mto_epntap\u001b[0m\u001b[0;34m(\u001b[0m\u001b[0;34m)\u001b[0m\u001b[0;34m\u001b[0m\u001b[0;34m\u001b[0m\u001b[0m\n",
      "\u001b[0;32m<ipython-input-2-c4026ee708a7>\u001b[0m in \u001b[0;36m__init__\u001b[0;34m(self, path)\u001b[0m\n\u001b[1;32m     68\u001b[0m     \u001b[0;32mdef\u001b[0m \u001b[0m__init__\u001b[0m\u001b[0;34m(\u001b[0m\u001b[0mself\u001b[0m\u001b[0;34m,\u001b[0m \u001b[0mpath\u001b[0m\u001b[0;34m=\u001b[0m\u001b[0;34m'./PM-MAR-C-Arsinoes/'\u001b[0m\u001b[0;34m)\u001b[0m\u001b[0;34m:\u001b[0m\u001b[0;34m\u001b[0m\u001b[0;34m\u001b[0m\u001b[0m\n\u001b[1;32m     69\u001b[0m         \u001b[0m_path\u001b[0m \u001b[0;34m=\u001b[0m \u001b[0minit_path\u001b[0m\u001b[0;34m(\u001b[0m\u001b[0mpath\u001b[0m\u001b[0;34m)\u001b[0m\u001b[0;34m\u001b[0m\u001b[0;34m\u001b[0m\u001b[0m\n\u001b[0;32m---> 70\u001b[0;31m         \u001b[0;32massert\u001b[0m \u001b[0m_path\u001b[0m \u001b[0;32mis\u001b[0m \u001b[0;32mnot\u001b[0m \u001b[0;32mNone\u001b[0m\u001b[0;34m,\u001b[0m \u001b[0;34m\"Path '{!s}' does not seem to exist\"\u001b[0m\u001b[0;34m.\u001b[0m\u001b[0mformat\u001b[0m\u001b[0;34m(\u001b[0m\u001b[0mpath\u001b[0m\u001b[0;34m)\u001b[0m\u001b[0;34m\u001b[0m\u001b[0;34m\u001b[0m\u001b[0m\n\u001b[0m\u001b[1;32m     71\u001b[0m         \u001b[0mself\u001b[0m\u001b[0;34m.\u001b[0m\u001b[0m_path\u001b[0m \u001b[0;34m=\u001b[0m \u001b[0m_path\u001b[0m\u001b[0;34m\u001b[0m\u001b[0;34m\u001b[0m\u001b[0m\n\u001b[1;32m     72\u001b[0m         \u001b[0mself\u001b[0m\u001b[0;34m.\u001b[0m\u001b[0m_pmid\u001b[0m \u001b[0;34m=\u001b[0m \u001b[0m_path\u001b[0m\u001b[0;34m.\u001b[0m\u001b[0mname\u001b[0m\u001b[0;34m\u001b[0m\u001b[0;34m\u001b[0m\u001b[0m\n",
      "\u001b[0;31mAssertionError\u001b[0m: Path '../PM-MAR-C-Arsinoes/' does not seem to exist"
     ]
    }
   ],
   "source": [
    "pkg = PmPkg('../PM-MAR-C-Arsinoes/')\n",
    "\n",
    "pkg.proc_raster_dir()\n",
    "\n",
    "epntap_records = pkg.to_epntap()"
   ]
  },
  {
   "cell_type": "code",
   "execution_count": null,
   "metadata": {},
   "outputs": [],
   "source": [
    "import pandas\n",
    "\n",
    "pandas.DataFrame(epntap_records)"
   ]
  },
  {
   "cell_type": "code",
   "execution_count": null,
   "metadata": {},
   "outputs": [],
   "source": [
    "pkg = PmPkg('./PM-MAR-MS-Arsinoes/')\n",
    "\n",
    "pkg.proc_data()\n",
    "\n",
    "epntap_records = pkg.to_epntap()\n",
    "\n",
    "pandas.DataFrame(epntap_records)"
   ]
  },
  {
   "cell_type": "code",
   "execution_count": null,
   "metadata": {
    "scrolled": false
   },
   "outputs": [],
   "source": [
    "from IPython.display import display\n",
    "\n",
    "import pathlib\n",
    "cwd = pathlib.Path('.')\n",
    "\n",
    "df = None\n",
    "for _dir in cwd.iterdir():\n",
    "    if not (_dir.is_dir() and _dir.name[:2] == 'PM'):\n",
    "        continue\n",
    "    print(_dir)\n",
    "    try:\n",
    "        pkg = PmPkg(_dir)\n",
    "        pkg.proc_data()\n",
    "        epntap_records = pkg.to_epntap()\n",
    "    except Exception as err:\n",
    "        print(err)\n",
    "    _df = pandas.DataFrame(epntap_records)\n",
    "    display(_df)\n",
    "    if df is None:\n",
    "        df = _df\n",
    "    else:\n",
    "        df = pandas.concat([df,_df]).reset_index(drop=True)"
   ]
  },
  {
   "cell_type": "code",
   "execution_count": null,
   "metadata": {},
   "outputs": [],
   "source": [
    "df"
   ]
  },
  {
   "cell_type": "code",
   "execution_count": null,
   "metadata": {},
   "outputs": [],
   "source": [
    "df.to_csv('/Users/chbrandt/Coisas/repos/VESPA/services/planmap/data/data.csv')"
   ]
  },
  {
   "cell_type": "code",
   "execution_count": 5,
   "metadata": {},
   "outputs": [
    {
     "name": "stdout",
     "output_type": "stream",
     "text": [
      "make_epntap_data_table.ipynb\r\n"
     ]
    }
   ],
   "source": [
    "%ls"
   ]
  },
  {
   "cell_type": "code",
   "execution_count": 6,
   "metadata": {},
   "outputs": [
    {
     "name": "stdout",
     "output_type": "stream",
     "text": [
      "\u001b[1m\u001b[36mdata\u001b[m\u001b[m/ \u001b[1m\u001b[36mdocs\u001b[m\u001b[m/ \u001b[31mq.rd\u001b[m\u001b[m*\r\n"
     ]
    }
   ],
   "source": [
    "%ls .."
   ]
  },
  {
   "cell_type": "code",
   "execution_count": null,
   "metadata": {},
   "outputs": [],
   "source": []
  }
 ],
 "metadata": {
  "kernelspec": {
   "display_name": "Python 3",
   "language": "python",
   "name": "python3"
  },
  "language_info": {
   "codemirror_mode": {
    "name": "ipython",
    "version": 3
   },
   "file_extension": ".py",
   "mimetype": "text/x-python",
   "name": "python",
   "nbconvert_exporter": "python",
   "pygments_lexer": "ipython3",
   "version": "3.7.8"
  }
 },
 "nbformat": 4,
 "nbformat_minor": 4
}
